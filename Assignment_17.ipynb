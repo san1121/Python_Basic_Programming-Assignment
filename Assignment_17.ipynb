{
 "cells": [
  {
   "cell_type": "markdown",
   "id": "diverse-induction",
   "metadata": {},
   "source": [
    "Question1.\n",
    "\n",
    "Create a function that takes three arguments a, b, c and returns the sum of the numbers that are evenly divided by c from the range a, b inclusive.\n",
    "\n",
    "__Ans:-__\n"
   ]
  },
  {
   "cell_type": "code",
   "execution_count": 1,
   "id": "bridal-roller",
   "metadata": {},
   "outputs": [],
   "source": [
    "def even_div(a, b, c):\n",
    "    return sum(num for num in range(a,b + 1) if not num % c)"
   ]
  },
  {
   "cell_type": "code",
   "execution_count": 2,
   "id": "enormous-tract",
   "metadata": {},
   "outputs": [
    {
     "name": "stdout",
     "output_type": "stream",
     "text": [
      "0\n",
      "30\n",
      "18\n"
     ]
    }
   ],
   "source": [
    "print(even_div(1,10,20))\n",
    "print(even_div(1,10,2))\n",
    "print(even_div(1,10,3))"
   ]
  },
  {
   "cell_type": "markdown",
   "id": "restricted-reasoning",
   "metadata": {},
   "source": [
    "***"
   ]
  },
  {
   "cell_type": "markdown",
   "id": "super-ceiling",
   "metadata": {},
   "source": [
    "Question2.\n",
    "\n",
    "Create a function that returns True if a given inequality expression is correct and False otherwise.\n",
    "\n",
    "__Ans:-__"
   ]
  },
  {
   "cell_type": "code",
   "execution_count": 3,
   "id": "alpine-craft",
   "metadata": {},
   "outputs": [
    {
     "name": "stdout",
     "output_type": "stream",
     "text": [
      "True\n",
      "False\n",
      "True\n"
     ]
    }
   ],
   "source": [
    "def evaluate(expression):\n",
    "    return eval(expression)\n",
    "print(evaluate('3 < 7 < 11'))\n",
    "print(evaluate('13 > 44 > 33 > 1'))\n",
    "print(evaluate('1 < 2 < 6 < 9 > 3'))"
   ]
  },
  {
   "cell_type": "markdown",
   "id": "meaning-spain",
   "metadata": {},
   "source": [
    "***"
   ]
  },
  {
   "cell_type": "markdown",
   "id": "modern-measurement",
   "metadata": {},
   "source": [
    "Question3. \n",
    "\n",
    "Create a function that replaces all the vowels in a string with a specified character\n",
    "\n",
    "__Ans:-__"
   ]
  },
  {
   "cell_type": "code",
   "execution_count": 4,
   "id": "accomplished-mistake",
   "metadata": {},
   "outputs": [
    {
     "name": "stdout",
     "output_type": "stream",
     "text": [
      "th# ##rdv#rk\n",
      "m?nn?? m??s?\n",
      "sh*k*sp**r*\n"
     ]
    }
   ],
   "source": [
    "import re\n",
    "def replace_vowels(string, char):\n",
    "    pattern = re.compile('[aeiou]')\n",
    "    return re.sub(pattern, char, string)\n",
    "print(replace_vowels('the aardvark', '#'))\n",
    "print(replace_vowels('minnie mouse', '?'))\n",
    "print(replace_vowels('shakespeare', '*'))"
   ]
  },
  {
   "cell_type": "markdown",
   "id": "adaptive-wales",
   "metadata": {},
   "source": [
    "***"
   ]
  },
  {
   "cell_type": "markdown",
   "id": "interested-theory",
   "metadata": {},
   "source": [
    "Question4.\n",
    "\n",
    "Write a function that calculates the factorial of a number recursively.\n",
    "\n",
    "__Ans:-__"
   ]
  },
  {
   "cell_type": "code",
   "execution_count": 5,
   "id": "imperial-vessel",
   "metadata": {},
   "outputs": [
    {
     "name": "stdout",
     "output_type": "stream",
     "text": [
      "120\n",
      "0\n",
      "6\n"
     ]
    }
   ],
   "source": [
    "def fact(n):\n",
    "    if n <= 1:\n",
    "        return n\n",
    "    return fact(n - 1) * n\n",
    "print(fact(5))\n",
    "print(fact(0))\n",
    "print(fact(3))"
   ]
  },
  {
   "cell_type": "markdown",
   "id": "elegant-inflation",
   "metadata": {},
   "source": [
    "***"
   ]
  },
  {
   "cell_type": "markdown",
   "id": "found-technical",
   "metadata": {},
   "source": [
    "Question 5\n",
    "\n",
    "Create a function that computes the hamming distance between two strings.\n",
    "\n",
    "__Ans:-__"
   ]
  },
  {
   "cell_type": "code",
   "execution_count": 6,
   "id": "advance-individual",
   "metadata": {},
   "outputs": [],
   "source": [
    "def hamming(string1, string2):\n",
    "    hamming_distance = 0\n",
    "    return sum(hamming_distance + 1 for i in range(len(string1)) if string1[i] != string2[i])    "
   ]
  },
  {
   "cell_type": "code",
   "execution_count": 7,
   "id": "relative-palmer",
   "metadata": {},
   "outputs": [
    {
     "name": "stdout",
     "output_type": "stream",
     "text": [
      "5\n",
      "0\n",
      "1\n"
     ]
    }
   ],
   "source": [
    "print(hamming(\"abcde\", \"bcdef\"))\n",
    "print(hamming(\"abcde\", \"abcde\"))\n",
    "print(hamming(\"strong\", \"strung\"))"
   ]
  },
  {
   "cell_type": "code",
   "execution_count": null,
   "id": "sealed-smith",
   "metadata": {},
   "outputs": [],
   "source": []
  }
 ],
 "metadata": {
  "kernelspec": {
   "display_name": "Python 3",
   "language": "python",
   "name": "python3"
  },
  "language_info": {
   "codemirror_mode": {
    "name": "ipython",
    "version": 3
   },
   "file_extension": ".py",
   "mimetype": "text/x-python",
   "name": "python",
   "nbconvert_exporter": "python",
   "pygments_lexer": "ipython3",
   "version": "3.8.7"
  }
 },
 "nbformat": 4,
 "nbformat_minor": 5
}
