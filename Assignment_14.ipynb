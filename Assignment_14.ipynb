{
 "cells": [
  {
   "cell_type": "markdown",
   "id": "verified-explorer",
   "metadata": {},
   "source": [
    "Question 1:\n",
    "\n",
    "\n",
    "\n",
    "Define a class with a generator which can iterate the numbers, which are divisible by 7, between a given range 0 and n.\n",
    "\n",
    "__Ans:-__"
   ]
  },
  {
   "cell_type": "code",
   "execution_count": 1,
   "id": "pregnant-short",
   "metadata": {},
   "outputs": [],
   "source": [
    "class Generator:\n",
    "    def __init__(self, n):\n",
    "        self.n = n\n",
    "        \n",
    "    def generate(self):\n",
    "        for i in range(0, self.n):\n",
    "            if i % 7 == 0:\n",
    "                yield i\n",
    "    "
   ]
  },
  {
   "cell_type": "code",
   "execution_count": 2,
   "id": "egyptian-heather",
   "metadata": {},
   "outputs": [],
   "source": [
    "generator = Generator(100)"
   ]
  },
  {
   "cell_type": "code",
   "execution_count": 3,
   "id": "cathedral-group",
   "metadata": {},
   "outputs": [
    {
     "name": "stdout",
     "output_type": "stream",
     "text": [
      "0 7 14 21 28 35 42 49 56 63 70 77 84 91 98 "
     ]
    }
   ],
   "source": [
    "for i in generator.generate():\n",
    "    print(i, end = ' ')"
   ]
  },
  {
   "cell_type": "markdown",
   "id": "material-energy",
   "metadata": {},
   "source": [
    "***"
   ]
  },
  {
   "cell_type": "markdown",
   "id": "acting-commodity",
   "metadata": {},
   "source": [
    "Question 2:\n",
    "Write a program to compute the frequency of the words from the input. The output should output after sorting the key alphanumerically. \n",
    "\n",
    "\n",
    "\n",
    "__Ans:-__"
   ]
  },
  {
   "cell_type": "code",
   "execution_count": 4,
   "id": "leading-modern",
   "metadata": {},
   "outputs": [
    {
     "name": "stdout",
     "output_type": "stream",
     "text": [
      "{'2': 2, '3.': 1, '3?': 1, 'New': 1, 'Python': 5, 'Read': 1, 'and': 1, 'between': 1, 'choosing': 1, 'or': 2, 'to': 1}\n"
     ]
    }
   ],
   "source": [
    "def freq(string):\n",
    "    string_split = string.split()\n",
    "    freq_dict = {}\n",
    "    \n",
    "    for word in string_split:\n",
    "        freq_dict[word] = freq_dict.get(word, 0) + 1\n",
    "    return dict(sorted(freq_dict.items()))\n",
    "\n",
    "print(freq('New to Python or choosing between Python 2 and Python 3? Read Python 2 or Python 3.'))"
   ]
  },
  {
   "cell_type": "markdown",
   "id": "communist-screening",
   "metadata": {},
   "source": [
    "***"
   ]
  },
  {
   "cell_type": "markdown",
   "id": "relative-contents",
   "metadata": {},
   "source": [
    "\n",
    "Question 3:\n",
    "\n",
    "\n",
    "\n",
    "\n",
    "\n",
    "\n",
    "\n",
    "\n",
    "\n",
    "Define a class Person and its two child classes: Male and Female. All classes have a method \"getGender\" which can print \"Male\" for Male class and \"Female\" for Female class.\n",
    "\n",
    "\n",
    "__Ans:-__\n"
   ]
  },
  {
   "cell_type": "code",
   "execution_count": 5,
   "id": "affected-lodging",
   "metadata": {},
   "outputs": [],
   "source": [
    "class Person:  \n",
    "    def getGender(self, gender):\n",
    "        print(gender)\n",
    "        \n",
    "class Male(Person):\n",
    "    def __init__(self, gender):\n",
    "        self.gender = gender\n",
    "    \n",
    "    def getGender(self):\n",
    "        super().getGender(self.gender)\n",
    "        \n",
    "class Female(Person):\n",
    "    def __init__(self, gender):\n",
    "        self.gender = gender\n",
    "    \n",
    "    def getGender(self):\n",
    "        super().getGender(self.gender)"
   ]
  },
  {
   "cell_type": "code",
   "execution_count": 6,
   "id": "informational-chapter",
   "metadata": {},
   "outputs": [
    {
     "name": "stdout",
     "output_type": "stream",
     "text": [
      "Male\n",
      "Female\n"
     ]
    }
   ],
   "source": [
    "male_person = Male('Male')\n",
    "female_person = Female('Female')\n",
    "male_person.getGender()\n",
    "female_person.getGender()"
   ]
  },
  {
   "cell_type": "markdown",
   "id": "invisible-burke",
   "metadata": {},
   "source": [
    "***"
   ]
  },
  {
   "cell_type": "markdown",
   "id": "swiss-apartment",
   "metadata": {},
   "source": [
    "Question 4:\n",
    "\n",
    "Please write a program to generate all sentences where subject is in [\"I\", \"You\"] and verb is in [\"Play\", \"Love\"] and the object is in [\"Hockey\",\"Football\"].\n",
    "\n",
    "__Ans:-__"
   ]
  },
  {
   "cell_type": "code",
   "execution_count": 7,
   "id": "conditional-jesus",
   "metadata": {},
   "outputs": [
    {
     "name": "stdout",
     "output_type": "stream",
     "text": [
      "I Play Hockey\n",
      "I Play Football\n",
      "I Love Hockey\n",
      "I Love Football\n",
      "You Play Hockey\n",
      "You Play Football\n",
      "You Love Hockey\n",
      "You Love Football\n"
     ]
    }
   ],
   "source": [
    "def sentence():\n",
    "    sub = ['I', 'You']\n",
    "    verb = ['Play', 'Love']\n",
    "    obj = ['Hockey', 'Football']\n",
    "    [[[print(i,j,k, sep = ' ') for k in obj] for j in verb] for i in sub]\n",
    "\n",
    "sentence()"
   ]
  },
  {
   "cell_type": "markdown",
   "id": "aware-exclusion",
   "metadata": {},
   "source": [
    "***"
   ]
  },
  {
   "cell_type": "markdown",
   "id": "opponent-grave",
   "metadata": {},
   "source": [
    "Question 5:\n",
    "\n",
    "Please write a program to compress and decompress the string \"hello world!hello world!hello world!hello world!\".\n",
    "\n",
    "__Ans:-__"
   ]
  },
  {
   "cell_type": "code",
   "execution_count": 8,
   "id": "french-scout",
   "metadata": {},
   "outputs": [],
   "source": [
    "import zlib\n",
    "\n",
    "def compress(string):\n",
    "    return zlib.compress(bytes(string, 'utf-8'))\n",
    "\n",
    "def decompress(string):\n",
    "    return zlib.decompress(string)"
   ]
  },
  {
   "cell_type": "code",
   "execution_count": 9,
   "id": "raising-investor",
   "metadata": {},
   "outputs": [
    {
     "name": "stdout",
     "output_type": "stream",
     "text": [
      "b'x\\x9c\\xcbH\\xcd\\xc9\\xc9W(\\xcf/\\xcaIQ\\xcc \\x82\\r\\x00\\xbd[\\x11\\xf5'\n",
      "b'hello world!hello world!hello world!hello world!'\n"
     ]
    }
   ],
   "source": [
    "compressed_value = compress(\"hello world!hello world!hello world!hello world!\")\n",
    "print(compressed_value)\n",
    "print(decompress(compressed_value))"
   ]
  },
  {
   "cell_type": "markdown",
   "id": "annoying-temple",
   "metadata": {},
   "source": [
    "***"
   ]
  },
  {
   "cell_type": "markdown",
   "id": "wound-roots",
   "metadata": {},
   "source": [
    "Question 6:\n",
    "\n",
    "Please write a binary search function which searches an item in a sorted list. The function should return the index of element to be searched in the list.\n",
    "\n",
    "\n",
    "__Ans:-__"
   ]
  },
  {
   "cell_type": "code",
   "execution_count": 10,
   "id": "sharp-reliance",
   "metadata": {},
   "outputs": [],
   "source": [
    "def binary_search(arr, key):\n",
    "    return binary_search_helper(arr, key, 0, len(arr) - 1)\n",
    "\n",
    "def binary_search_helper(arr, key, left, right):\n",
    "    \n",
    "    while left <= right:\n",
    "        middle = (left + right)//2\n",
    "        match = arr[middle]\n",
    "        if match == key:\n",
    "            return middle\n",
    "        elif match < key:\n",
    "            left = middle + 1\n",
    "        else:\n",
    "            right = middle - 1\n",
    "    return -1"
   ]
  },
  {
   "cell_type": "code",
   "execution_count": 11,
   "id": "pretty-polls",
   "metadata": {},
   "outputs": [
    {
     "name": "stdout",
     "output_type": "stream",
     "text": [
      "2\n",
      "-1\n"
     ]
    }
   ],
   "source": [
    "print(binary_search([12,45,67,86,101,120,137,159], 67))\n",
    "print(binary_search([12,45,67,86,101,120,137,159], 160))\n"
   ]
  },
  {
   "cell_type": "markdown",
   "id": "spiritual-empire",
   "metadata": {},
   "source": [
    "***"
   ]
  },
  {
   "cell_type": "code",
   "execution_count": null,
   "id": "published-focus",
   "metadata": {},
   "outputs": [],
   "source": []
  }
 ],
 "metadata": {
  "kernelspec": {
   "display_name": "Python 3",
   "language": "python",
   "name": "python3"
  },
  "language_info": {
   "codemirror_mode": {
    "name": "ipython",
    "version": 3
   },
   "file_extension": ".py",
   "mimetype": "text/x-python",
   "name": "python",
   "nbconvert_exporter": "python",
   "pygments_lexer": "ipython3",
   "version": "3.8.7"
  }
 },
 "nbformat": 4,
 "nbformat_minor": 5
}
