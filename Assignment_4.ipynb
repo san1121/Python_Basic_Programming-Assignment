{
 "cells": [
  {
   "cell_type": "markdown",
   "id": "jewish-reduction",
   "metadata": {},
   "source": [
    "1. Write a Python Program to Find the Factorial of a Number?\n",
    "\n",
    "__Ans:-__"
   ]
  },
  {
   "cell_type": "code",
   "execution_count": 1,
   "id": "detected-pattern",
   "metadata": {},
   "outputs": [
    {
     "data": {
      "text/plain": [
       "5040"
      ]
     },
     "execution_count": 1,
     "metadata": {},
     "output_type": "execute_result"
    }
   ],
   "source": [
    "def factorial(n):\n",
    "    fact = 1\n",
    "    for i in range(1, n + 1):\n",
    "        fact *= i\n",
    "    return fact\n",
    "factorial(7)"
   ]
  },
  {
   "cell_type": "markdown",
   "id": "entertaining-texture",
   "metadata": {},
   "source": [
    "***"
   ]
  },
  {
   "cell_type": "code",
   "execution_count": 2,
   "id": "cooked-desktop",
   "metadata": {
    "scrolled": true
   },
   "outputs": [
    {
     "name": "stdout",
     "output_type": "stream",
     "text": [
      "13 x 1 = 13\n",
      "13 x 2 = 26\n",
      "13 x 3 = 39\n",
      "13 x 4 = 52\n",
      "13 x 5 = 65\n",
      "13 x 6 = 78\n",
      "13 x 7 = 91\n",
      "13 x 8 = 104\n",
      "13 x 9 = 117\n",
      "13 x 10 = 130\n"
     ]
    }
   ],
   "source": [
    "def print_table(num):\n",
    "    for i in range(1, 11):\n",
    "        print('{} x {} = {}'.format(num, i, num * i))\n",
    "print_table(13)"
   ]
  },
  {
   "cell_type": "markdown",
   "id": "suffering-garlic",
   "metadata": {},
   "source": [
    "***"
   ]
  },
  {
   "cell_type": "markdown",
   "id": "basic-reservation",
   "metadata": {},
   "source": [
    "3. Write a Python Program to Print the Fibonacci sequence?\n",
    "\n",
    "__Ans:-__"
   ]
  },
  {
   "cell_type": "code",
   "execution_count": 3,
   "id": "identical-costs",
   "metadata": {},
   "outputs": [
    {
     "name": "stdout",
     "output_type": "stream",
     "text": [
      "0 1 1 2 3 5 8 13 21 34 55 "
     ]
    }
   ],
   "source": [
    "def fib(n):\n",
    "    current = 1\n",
    "    previous = 1\n",
    "    print(0,1, end = ' ')\n",
    "    for i in range(2, n + 1):\n",
    "        print(current, end = ' ')\n",
    "        temp = current\n",
    "        current += previous\n",
    "        previous = temp               \n",
    "\n",
    "fib(10)"
   ]
  },
  {
   "cell_type": "markdown",
   "id": "changed-significance",
   "metadata": {},
   "source": [
    "***"
   ]
  },
  {
   "cell_type": "markdown",
   "id": "frozen-cookie",
   "metadata": {},
   "source": [
    "4. Write a Python Program to Check Armstrong Number?\n",
    "\n",
    "__Ans:-__"
   ]
  },
  {
   "cell_type": "code",
   "execution_count": 4,
   "id": "geological-range",
   "metadata": {},
   "outputs": [],
   "source": [
    "def is_armstrong(num):\n",
    "    addition = 0\n",
    "    power = len(str(num))\n",
    "    temp_num = num\n",
    "    \n",
    "    while temp_num != 0:\n",
    "        value = temp_num % 10\n",
    "        addition = addition + (value ** power)\n",
    "        temp_num = temp_num // 10\n",
    "    \n",
    "    return num == addition"
   ]
  },
  {
   "cell_type": "code",
   "execution_count": 5,
   "id": "norman-frost",
   "metadata": {},
   "outputs": [
    {
     "name": "stdout",
     "output_type": "stream",
     "text": [
      "True\n",
      "True\n",
      "False\n"
     ]
    }
   ],
   "source": [
    "print(is_armstrong(1634))\n",
    "print(is_armstrong(153))\n",
    "print(is_armstrong(1253))"
   ]
  },
  {
   "cell_type": "markdown",
   "id": "owned-turtle",
   "metadata": {},
   "source": [
    "***"
   ]
  },
  {
   "cell_type": "markdown",
   "id": "twenty-symposium",
   "metadata": {},
   "source": [
    "5. Write a Python Program to Find Armstrong Number in an Interval?\n",
    "\n",
    "__Ans:-__"
   ]
  },
  {
   "cell_type": "code",
   "execution_count": 6,
   "id": "least-limit",
   "metadata": {},
   "outputs": [
    {
     "name": "stdout",
     "output_type": "stream",
     "text": [
      "1 2 3 4 5 6 7 8 9 153 370 371 407 1634 8208 9474 "
     ]
    }
   ],
   "source": [
    "def armstrong(low, high):\n",
    "    for i in range(low, high+1):\n",
    "        print(i, end = ' ') if (is_armstrong(i)) else ''\n",
    "\n",
    "armstrong(1,10000)"
   ]
  },
  {
   "cell_type": "markdown",
   "id": "complete-resort",
   "metadata": {},
   "source": [
    "***"
   ]
  },
  {
   "cell_type": "markdown",
   "id": "internal-footwear",
   "metadata": {},
   "source": [
    "6. Write a Python Program to Find the Sum of Natural Numbers?\n",
    "\n",
    "__Ans:-__"
   ]
  },
  {
   "cell_type": "code",
   "execution_count": 7,
   "id": "harmful-entrepreneur",
   "metadata": {},
   "outputs": [],
   "source": [
    "def sum_natural(num):\n",
    "    return (num * (num + 1))//2"
   ]
  },
  {
   "cell_type": "code",
   "execution_count": 8,
   "id": "productive-botswana",
   "metadata": {},
   "outputs": [
    {
     "data": {
      "text/plain": [
       "55"
      ]
     },
     "execution_count": 8,
     "metadata": {},
     "output_type": "execute_result"
    }
   ],
   "source": [
    "sum_natural(10)"
   ]
  },
  {
   "cell_type": "code",
   "execution_count": null,
   "id": "superior-consistency",
   "metadata": {},
   "outputs": [],
   "source": []
  }
 ],
 "metadata": {
  "kernelspec": {
   "display_name": "Python 3",
   "language": "python",
   "name": "python3"
  },
  "language_info": {
   "codemirror_mode": {
    "name": "ipython",
    "version": 3
   },
   "file_extension": ".py",
   "mimetype": "text/x-python",
   "name": "python",
   "nbconvert_exporter": "python",
   "pygments_lexer": "ipython3",
   "version": "3.8.7"
  }
 },
 "nbformat": 4,
 "nbformat_minor": 5
}
