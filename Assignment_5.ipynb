{
 "cells": [
  {
   "cell_type": "markdown",
   "id": "bored-composition",
   "metadata": {},
   "source": [
    "1. Write a Python Program to Find LCM?\n",
    "\n",
    "__Ans:-__"
   ]
  },
  {
   "cell_type": "code",
   "execution_count": 1,
   "id": "catholic-worthy",
   "metadata": {},
   "outputs": [
    {
     "data": {
      "text/plain": [
       "240"
      ]
     },
     "execution_count": 1,
     "metadata": {},
     "output_type": "execute_result"
    }
   ],
   "source": [
    "def find_gcd(num1, num2):\n",
    "    lowest = min(num1, num2)\n",
    "    for i in range(lowest, 1, -1):\n",
    "        if not (num1 % i) and not (num2 % i):\n",
    "            gcd = i\n",
    "            break\n",
    "    return gcd\n",
    "\n",
    "def find_lcm(num1, num2):\n",
    "    gcd = find_gcd(num1, num2)\n",
    "    return (num1 //gcd) * num2\n",
    "find_lcm(48, 60)"
   ]
  },
  {
   "cell_type": "markdown",
   "id": "finished-motion",
   "metadata": {},
   "source": [
    "***"
   ]
  },
  {
   "cell_type": "markdown",
   "id": "recognized-quality",
   "metadata": {},
   "source": [
    "2. Write a Python Program to Find HCF?\n",
    "\n",
    "__Ans:-__"
   ]
  },
  {
   "cell_type": "code",
   "execution_count": 2,
   "id": "impossible-bicycle",
   "metadata": {},
   "outputs": [
    {
     "data": {
      "text/plain": [
       "18"
      ]
     },
     "execution_count": 2,
     "metadata": {},
     "output_type": "execute_result"
    }
   ],
   "source": [
    "find_gcd(18, 54)"
   ]
  },
  {
   "cell_type": "markdown",
   "id": "cordless-cambridge",
   "metadata": {},
   "source": [
    "***"
   ]
  },
  {
   "cell_type": "markdown",
   "id": "phantom-things",
   "metadata": {},
   "source": [
    "3. Write a Python Program to Convert Decimal to Binary, Octal and Hexadecimal?\n",
    "\n",
    "__Ans:-__"
   ]
  },
  {
   "cell_type": "code",
   "execution_count": 3,
   "id": "favorite-simpson",
   "metadata": {},
   "outputs": [
    {
     "name": "stdout",
     "output_type": "stream",
     "text": [
      "Binary of 344 is 0b101011000\n",
      "Octal of 344 is 0o530\n",
      "Hexadecimal of 344 is 0x158\n"
     ]
    }
   ],
   "source": [
    "def conversion(decimal):\n",
    "    print('Binary of {} is {}'.format(decimal, bin(decimal)))\n",
    "    print('Octal of {} is {}'.format(decimal, oct(decimal)))\n",
    "    print('Hexadecimal of {} is {}'.format(decimal, hex(decimal)))\n",
    "    \n",
    "conversion(344)"
   ]
  },
  {
   "cell_type": "markdown",
   "id": "excess-charter",
   "metadata": {},
   "source": [
    "***"
   ]
  },
  {
   "cell_type": "markdown",
   "id": "phantom-dance",
   "metadata": {},
   "source": [
    "4. Write a Python Program To Find ASCII value of a character?\n",
    "\n",
    "__Ans:-__"
   ]
  },
  {
   "cell_type": "code",
   "execution_count": 4,
   "id": "combined-teaching",
   "metadata": {},
   "outputs": [
    {
     "data": {
      "text/plain": [
       "115"
      ]
     },
     "execution_count": 4,
     "metadata": {},
     "output_type": "execute_result"
    }
   ],
   "source": [
    "def find_ascii(char):\n",
    "    return ord(char)\n",
    "find_ascii('s')"
   ]
  },
  {
   "cell_type": "markdown",
   "id": "august-calculator",
   "metadata": {},
   "source": [
    "***"
   ]
  },
  {
   "cell_type": "markdown",
   "id": "billion-event",
   "metadata": {},
   "source": [
    "5. Write a Python Program to Make a Simple Calculator with 4 basic mathematical operations?\n",
    "\n",
    "__Ans:-__"
   ]
  },
  {
   "cell_type": "code",
   "execution_count": 5,
   "id": "returning-wagner",
   "metadata": {},
   "outputs": [],
   "source": [
    "class Calculator:\n",
    "    def add(self, num1, num2):\n",
    "        return num1 + num2\n",
    "    \n",
    "    def sub(self, num1, num2):\n",
    "        return num1 - num2\n",
    "    \n",
    "    def mult(self, num1, num2):\n",
    "        return num1 * num2\n",
    "    \n",
    "    def divide(self, num1, num2):\n",
    "        try:\n",
    "            return num1 / num2\n",
    "        except Exception as e:\n",
    "            return 'Please enter valid division'"
   ]
  },
  {
   "cell_type": "code",
   "execution_count": 6,
   "id": "wrong-transport",
   "metadata": {},
   "outputs": [],
   "source": [
    "calci = Calculator()"
   ]
  },
  {
   "cell_type": "code",
   "execution_count": 7,
   "id": "colonial-diagram",
   "metadata": {},
   "outputs": [
    {
     "name": "stdout",
     "output_type": "stream",
     "text": [
      "13\n",
      "-7\n",
      "30\n",
      "0.3\n"
     ]
    }
   ],
   "source": [
    "print(calci.add(3,10))\n",
    "print(calci.sub(3,10))\n",
    "print(calci.mult(3,10))\n",
    "print(calci.divide(3,10))"
   ]
  },
  {
   "cell_type": "code",
   "execution_count": null,
   "id": "absolute-planet",
   "metadata": {},
   "outputs": [],
   "source": []
  }
 ],
 "metadata": {
  "kernelspec": {
   "display_name": "Python 3",
   "language": "python",
   "name": "python3"
  },
  "language_info": {
   "codemirror_mode": {
    "name": "ipython",
    "version": 3
   },
   "file_extension": ".py",
   "mimetype": "text/x-python",
   "name": "python",
   "nbconvert_exporter": "python",
   "pygments_lexer": "ipython3",
   "version": "3.8.7"
  }
 },
 "nbformat": 4,
 "nbformat_minor": 5
}
