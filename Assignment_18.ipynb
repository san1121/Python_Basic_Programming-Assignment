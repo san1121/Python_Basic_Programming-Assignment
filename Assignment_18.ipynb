{
 "cells": [
  {
   "cell_type": "markdown",
   "id": "dressed-accident",
   "metadata": {},
   "source": [
    "Question 1.\n",
    "\n",
    "Create a function that takes a list of non-negative integers and strings and return a new list without the strings.\n",
    "\n",
    "__Ans:-__"
   ]
  },
  {
   "cell_type": "code",
   "execution_count": 1,
   "id": "turkish-spyware",
   "metadata": {},
   "outputs": [
    {
     "name": "stdout",
     "output_type": "stream",
     "text": [
      "[1, 2]\n",
      "[1, 2, 123]\n"
     ]
    }
   ],
   "source": [
    "def filter_list(lis):\n",
    "    return list(filter(lambda x: not type(x) == str, lis))\n",
    "print(filter_list([1,2,'a','b']))\n",
    "print(filter_list([1, 2, \"aasf\", \"1\", \"123\", 123]))"
   ]
  },
  {
   "cell_type": "markdown",
   "id": "sitting-slovakia",
   "metadata": {},
   "source": [
    "***"
   ]
  },
  {
   "cell_type": "markdown",
   "id": "impossible-ranch",
   "metadata": {},
   "source": [
    "Question 2\n",
    "\n",
    "The \"Reverser\" takes a string as input and returns that string in reverse order, with the opposite case.\n",
    "\n",
    "__Ans:-__"
   ]
  },
  {
   "cell_type": "code",
   "execution_count": 2,
   "id": "recent-fetish",
   "metadata": {},
   "outputs": [],
   "source": [
    "def reverse(string):\n",
    "    return string.swapcase()[::-1]"
   ]
  },
  {
   "cell_type": "code",
   "execution_count": 3,
   "id": "biblical-cornwall",
   "metadata": {},
   "outputs": [
    {
     "name": "stdout",
     "output_type": "stream",
     "text": [
      "DLROw OLLEh\n",
      "eSrEvEr\n"
     ]
    }
   ],
   "source": [
    "print(reverse('Hello World'))\n",
    "print(reverse('ReVeRsE'))"
   ]
  },
  {
   "cell_type": "markdown",
   "id": "rolled-shareware",
   "metadata": {},
   "source": [
    "***"
   ]
  },
  {
   "cell_type": "code",
   "execution_count": 4,
   "id": "touched-clinic",
   "metadata": {},
   "outputs": [
    {
     "name": "stdout",
     "output_type": "stream",
     "text": [
      "First is 1, Middle is [2, 3, 4, 5], Last is 6\n"
     ]
    }
   ],
   "source": [
    "def assign(lis):\n",
    "    first, *middle, last = lis\n",
    "    print('First is {}, Middle is {}, Last is {}'.format(first, middle, last))\n",
    "assign([1,2,3,4,5,6])"
   ]
  },
  {
   "cell_type": "markdown",
   "id": "caroline-ethernet",
   "metadata": {},
   "source": [
    "***"
   ]
  },
  {
   "cell_type": "markdown",
   "id": "amazing-cooperative",
   "metadata": {},
   "source": [
    "Question 4\n",
    "\n",
    "Write a function that calculates the factorial of a number recursively.\n",
    "\n",
    "__Ans:-__"
   ]
  },
  {
   "cell_type": "code",
   "execution_count": 5,
   "id": "accredited-range",
   "metadata": {},
   "outputs": [
    {
     "name": "stdout",
     "output_type": "stream",
     "text": [
      "120\n",
      "6\n"
     ]
    }
   ],
   "source": [
    "def fact(n):\n",
    "    if n <= 1:\n",
    "        return n\n",
    "    \n",
    "    return fact(n - 1) * n\n",
    "print(fact(5))\n",
    "print(fact(3))"
   ]
  },
  {
   "cell_type": "markdown",
   "id": "existing-heritage",
   "metadata": {},
   "source": [
    "***"
   ]
  },
  {
   "cell_type": "markdown",
   "id": "collective-parks",
   "metadata": {},
   "source": [
    "Question 5\n",
    "\n",
    "Write a function that moves all elements of one type to the end of the list.\n",
    "\n",
    "__Ans:-__\n"
   ]
  },
  {
   "cell_type": "code",
   "execution_count": 6,
   "id": "stainless-macintosh",
   "metadata": {},
   "outputs": [
    {
     "name": "stdout",
     "output_type": "stream",
     "text": [
      "[3, 2, 4, 4, 1, 1]\n",
      "['b', 'a', 'a', 'a']\n"
     ]
    }
   ],
   "source": [
    "def move_to_end(lis, elem):\n",
    "    count_of_elem = lis.count(elem)\n",
    "    new_list = list(filter(lambda x: x != elem, lis))\n",
    "    new_list.extend([elem] * count_of_elem)\n",
    "    return new_list\n",
    "print(move_to_end([1,3,2,4,4,1], 1))\n",
    "print(move_to_end([\"a\", \"a\", \"a\", \"b\"],'a'))"
   ]
  },
  {
   "cell_type": "markdown",
   "id": "trying-learning",
   "metadata": {},
   "source": [
    "***"
   ]
  }
 ],
 "metadata": {
  "kernelspec": {
   "display_name": "Python 3",
   "language": "python",
   "name": "python3"
  },
  "language_info": {
   "codemirror_mode": {
    "name": "ipython",
    "version": 3
   },
   "file_extension": ".py",
   "mimetype": "text/x-python",
   "name": "python",
   "nbconvert_exporter": "python",
   "pygments_lexer": "ipython3",
   "version": "3.8.7"
  }
 },
 "nbformat": 4,
 "nbformat_minor": 5
}
