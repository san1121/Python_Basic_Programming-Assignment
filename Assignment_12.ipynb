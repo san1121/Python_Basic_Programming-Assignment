{
 "cells": [
  {
   "cell_type": "markdown",
   "id": "radical-output",
   "metadata": {},
   "source": [
    "1. Write a Python program to Extract Unique values dictionary values?\n",
    "\n",
    "__Ans:-__"
   ]
  },
  {
   "cell_type": "code",
   "execution_count": 1,
   "id": "distinct-meditation",
   "metadata": {},
   "outputs": [
    {
     "name": "stdout",
     "output_type": "stream",
     "text": [
      "['[1]', '[1, 2, 3]', 'One', '[1, 2]', '3']\n"
     ]
    }
   ],
   "source": [
    "def unique_values(dic):\n",
    "    values_dic = dict()\n",
    "    \n",
    "    for value in dic.values():\n",
    "        if str(value) not in values_dic:\n",
    "            values_dic[str(value)] = 1\n",
    "        else:\n",
    "            values_dic[str(value)] += 1 \n",
    "    \n",
    "    unique = []\n",
    "    for key, value in values_dic.items():\n",
    "        if value == 1:\n",
    "            unique.append(key)\n",
    "    return unique\n",
    "dic = {\n",
    "    'No1' : 1,\n",
    "    'No2' : [1],\n",
    "    'No3' : 1,\n",
    "    'No4' : [1,2,3],\n",
    "    'No5' : 2,\n",
    "    'No6' : 'One',\n",
    "    'No7' : [1,2],\n",
    "    'No8' : 2,\n",
    "    'No9' : 3\n",
    "}\n",
    "\n",
    "print(unique_values(dic))"
   ]
  },
  {
   "cell_type": "markdown",
   "id": "driving-maryland",
   "metadata": {},
   "source": [
    "***"
   ]
  },
  {
   "cell_type": "markdown",
   "id": "processed-douglas",
   "metadata": {},
   "source": [
    "2. Write a Python program to find the sum of all items in a dictionary?\n",
    "\n",
    "__Ans:-__"
   ]
  },
  {
   "cell_type": "code",
   "execution_count": 2,
   "id": "removed-reserve",
   "metadata": {},
   "outputs": [
    {
     "name": "stdout",
     "output_type": "stream",
     "text": [
      "151\n"
     ]
    }
   ],
   "source": [
    "def find_sum(dic):\n",
    "    return sum(dic.values())\n",
    "\n",
    "dic = {\n",
    "    1 : 1,\n",
    "    2: 50,\n",
    "    3 : 100\n",
    "}\n",
    "print(find_sum(dic))"
   ]
  },
  {
   "cell_type": "markdown",
   "id": "asian-princeton",
   "metadata": {},
   "source": [
    "***"
   ]
  },
  {
   "cell_type": "markdown",
   "id": "reflected-north",
   "metadata": {},
   "source": [
    "3. Write a Python program to Merging two Dictionaries?\n",
    "\n",
    "__Ans:-__"
   ]
  },
  {
   "cell_type": "code",
   "execution_count": 3,
   "id": "contained-basketball",
   "metadata": {},
   "outputs": [
    {
     "name": "stdout",
     "output_type": "stream",
     "text": [
      "{1: 1, 2: 20, 3: 151}\n"
     ]
    }
   ],
   "source": [
    "def merge_dic(dict1, dict2):\n",
    "    dict1.update(dict2)\n",
    "    return dict1\n",
    "dict1 = {\n",
    "    1 : 1,\n",
    "    2 : 50\n",
    "}\n",
    "\n",
    "dict2 = {\n",
    "    3 : 151,\n",
    "    2 : 20\n",
    "}\n",
    "\n",
    "print(merge_dic(dict1, dict2))"
   ]
  },
  {
   "cell_type": "markdown",
   "id": "stable-photographer",
   "metadata": {},
   "source": [
    "***"
   ]
  },
  {
   "cell_type": "markdown",
   "id": "adult-artist",
   "metadata": {},
   "source": [
    "4. Write a Python program to convert key-values list to flat dictionary?\n",
    "\n",
    "__Ans:-__"
   ]
  },
  {
   "cell_type": "code",
   "execution_count": 4,
   "id": "unauthorized-defeat",
   "metadata": {},
   "outputs": [
    {
     "name": "stdout",
     "output_type": "stream",
     "text": [
      "{'Name': 'Shreyas', 'Course': 'Full Stack Data Science', 'Duration': '1 Year'}\n"
     ]
    }
   ],
   "source": [
    "def flat_dict(lis):\n",
    "    return {key : value for key, value in lis}\n",
    "\n",
    "lis = [['Name','Shreyas'],['Course','Full Stack Data Science'],['Duration','1 Year']]\n",
    "print(flat_dict(lis))"
   ]
  },
  {
   "cell_type": "markdown",
   "id": "filled-laser",
   "metadata": {},
   "source": [
    "***"
   ]
  },
  {
   "cell_type": "markdown",
   "id": "color-andorra",
   "metadata": {},
   "source": [
    "5. Write a Python program to insertion at the beginning in OrderedDict?\n",
    "\n",
    "__Ans:-__"
   ]
  },
  {
   "cell_type": "code",
   "execution_count": 5,
   "id": "hidden-dakota",
   "metadata": {},
   "outputs": [
    {
     "name": "stdout",
     "output_type": "stream",
     "text": [
      "OrderedDict([('User ID', 1101), ('Name', 'Shreyas'), ('Course', 'Full Stack Data Science'), ('Duration', '1 Year')])\n"
     ]
    }
   ],
   "source": [
    "from collections import OrderedDict\n",
    "\n",
    "def import_begining(dic):\n",
    "    dic.update({'User ID': 1101})\n",
    "    dic.move_to_end('User ID', last = False)\n",
    "    return dic\n",
    "\n",
    "dic = OrderedDict([('Name', 'Shreyas'), ('Course', 'Full Stack Data Science'), ('Duration', '1 Year')])\n",
    "print(import_begining(dic))"
   ]
  },
  {
   "cell_type": "markdown",
   "id": "biblical-divorce",
   "metadata": {},
   "source": [
    "***"
   ]
  },
  {
   "cell_type": "markdown",
   "id": "genuine-advance",
   "metadata": {},
   "source": [
    "6. Write a Python program to check order of character in string using OrderedDict()?\n",
    "\n",
    "__Ans:-__"
   ]
  },
  {
   "cell_type": "code",
   "execution_count": 6,
   "id": "legitimate-snake",
   "metadata": {},
   "outputs": [
    {
     "name": "stdout",
     "output_type": "stream",
     "text": [
      "False\n",
      "False\n",
      "True\n"
     ]
    }
   ],
   "source": [
    "from collections import OrderedDict\n",
    "def check_order(string, order):\n",
    "    \n",
    "    if len(string) == len(order):\n",
    "        return True\n",
    "    \n",
    "    ordered_dict = OrderedDict.fromkeys(string)\n",
    "    \n",
    "    # Setting up rank\n",
    "    rank = 1\n",
    "    for key, value in ordered_dict.items():\n",
    "        ordered_dict[key] = rank\n",
    "        rank += 1\n",
    "    index = 0\n",
    "    last_order = order[index]\n",
    "    order_set = set(order)\n",
    "    \n",
    "    for key in string:\n",
    "        if key in order_set and ordered_dict[key] < ordered_dict[last_order]:\n",
    "            return False\n",
    "        \n",
    "        if key == order[index]:\n",
    "            last_order = order[index]\n",
    "            index += 1\n",
    "\n",
    "        if index == len(order):\n",
    "            index = 0\n",
    "            last_order = order[index]\n",
    "\n",
    "    return True\n",
    "\n",
    "print(check_order('shreyas','as'))\n",
    "print(check_order('shreyas','has'))\n",
    "print(check_order('shreyas','seya'))"
   ]
  },
  {
   "cell_type": "markdown",
   "id": "comic-journal",
   "metadata": {},
   "source": [
    "***"
   ]
  },
  {
   "cell_type": "markdown",
   "id": "ecological-heater",
   "metadata": {},
   "source": [
    "7. Write a Python program to sort Python Dictionaries by Key or Value?\n",
    "\n",
    "__Ans:-__"
   ]
  },
  {
   "cell_type": "code",
   "execution_count": 7,
   "id": "wrapped-harvey",
   "metadata": {},
   "outputs": [
    {
     "name": "stdout",
     "output_type": "stream",
     "text": [
      "{1: 50, 2: 70, 3: 20, 4: 35}\n",
      "{3: 20, 4: 35, 1: 50, 2: 70}\n"
     ]
    }
   ],
   "source": [
    "from collections import OrderedDict\n",
    "def sort_dict(dic, by_which):\n",
    "    if by_which == 'key':\n",
    "        return dict(sorted(dic.items()))\n",
    "    else:\n",
    "        return dict(sorted(dic.items(), key = lambda x : x[1]))\n",
    "\n",
    "dic = {\n",
    "    2 : 70,\n",
    "    1: 50,\n",
    "    3 : 20,\n",
    "    4 : 35\n",
    "}\n",
    "print(sort_dict(dic, 'key'))\n",
    "print(sort_dict(dic, 'value'))"
   ]
  },
  {
   "cell_type": "markdown",
   "id": "circular-sight",
   "metadata": {},
   "source": [
    "***"
   ]
  },
  {
   "cell_type": "code",
   "execution_count": null,
   "id": "auburn-actress",
   "metadata": {},
   "outputs": [],
   "source": []
  }
 ],
 "metadata": {
  "kernelspec": {
   "display_name": "Python 3",
   "language": "python",
   "name": "python3"
  },
  "language_info": {
   "codemirror_mode": {
    "name": "ipython",
    "version": 3
   },
   "file_extension": ".py",
   "mimetype": "text/x-python",
   "name": "python",
   "nbconvert_exporter": "python",
   "pygments_lexer": "ipython3",
   "version": "3.8.7"
  }
 },
 "nbformat": 4,
 "nbformat_minor": 5
}
