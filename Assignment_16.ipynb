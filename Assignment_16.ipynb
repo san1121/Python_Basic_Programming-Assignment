{
 "cells": [
  {
   "cell_type": "markdown",
   "id": "guilty-effect",
   "metadata": {},
   "source": [
    "Question1.\n",
    "\n",
    "Write a function that stutters a word as if someone is struggling to read it. The first two letters are repeated twice with an ellipsis ... and space after each, and then the word is pronounced with a question mark ?.\n",
    "\n",
    "__Ans:-__"
   ]
  },
  {
   "cell_type": "code",
   "execution_count": 1,
   "id": "norman-provider",
   "metadata": {},
   "outputs": [],
   "source": [
    "def stutter(string):\n",
    "    words = [char for char in string[0:2]]\n",
    "    words.extend(['.']*3)\n",
    "    words.append(' ')\n",
    "    words = words * 2\n",
    "    words.append(string)\n",
    "    \n",
    "    return ''.join(words)"
   ]
  },
  {
   "cell_type": "code",
   "execution_count": 2,
   "id": "secondary-lawsuit",
   "metadata": {},
   "outputs": [
    {
     "name": "stdout",
     "output_type": "stream",
     "text": [
      "in... in... incredible\n",
      "ou... ou... outstanding\n"
     ]
    }
   ],
   "source": [
    "print(stutter('incredible'))\n",
    "print(stutter('outstanding'))"
   ]
  },
  {
   "cell_type": "markdown",
   "id": "royal-lease",
   "metadata": {},
   "source": [
    "***"
   ]
  },
  {
   "cell_type": "markdown",
   "id": "facial-pension",
   "metadata": {},
   "source": [
    "Question 2.\n",
    "\n",
    "Create a function that takes an angle in radians and returns the corresponding angle in degrees rounded to one decimal place.\n",
    "\n",
    "__Ans:-__"
   ]
  },
  {
   "cell_type": "code",
   "execution_count": 3,
   "id": "parliamentary-string",
   "metadata": {},
   "outputs": [],
   "source": [
    "import math\n",
    "def radians_to_degree(angle):\n",
    "    return angle * (180/math.pi)"
   ]
  },
  {
   "cell_type": "code",
   "execution_count": 4,
   "id": "stuffed-harris",
   "metadata": {},
   "outputs": [
    {
     "name": "stdout",
     "output_type": "stream",
     "text": [
      "57.3\n",
      "1145.9\n",
      "2864.8\n"
     ]
    }
   ],
   "source": [
    "print('%2.1f'%radians_to_degree(1))\n",
    "print('%2.1f'%radians_to_degree(20))\n",
    "print('%2.1f'%radians_to_degree(50))"
   ]
  },
  {
   "cell_type": "markdown",
   "id": "brave-fifth",
   "metadata": {},
   "source": [
    "***"
   ]
  },
  {
   "cell_type": "markdown",
   "id": "relative-newport",
   "metadata": {},
   "source": [
    "Question 3. \n",
    "\n",
    "In this challenge, establish if a given integer num is a Curzon number. If 1 plus 2 elevated to num is exactly divisible by 1 plus 2 multiplied by num, then num is a Curzon number.\n",
    "Given a non-negative integer num, implement a function that returns True if num is a Curzon number, or False otherwise\n",
    "\n",
    "__Ans:-__"
   ]
  },
  {
   "cell_type": "code",
   "execution_count": 5,
   "id": "horizontal-nepal",
   "metadata": {},
   "outputs": [
    {
     "name": "stdout",
     "output_type": "stream",
     "text": [
      "0, 1, 2, 5, 6, 9, 14, 18, 21, 26, 29, 30, 33, 41, 50, 53, 54, 65, 69, 74, 78, 81, 86, 89, 90, 98, "
     ]
    }
   ],
   "source": [
    "def is_curzon(num):\n",
    "    return not (2 ** num + 1) % (2 * num + 1)\n",
    "\n",
    "for i in range(101):\n",
    "    print(i, end = ', ') if is_curzon(i) else ''"
   ]
  },
  {
   "cell_type": "markdown",
   "id": "average-concentration",
   "metadata": {},
   "source": [
    "***"
   ]
  },
  {
   "cell_type": "markdown",
   "id": "american-tyler",
   "metadata": {},
   "source": [
    "Question 4.\n",
    "\n",
    "Given the side length x find the area of a hexagon.\n",
    "\n",
    "__Ans:-__"
   ]
  },
  {
   "cell_type": "code",
   "execution_count": 6,
   "id": "baking-insured",
   "metadata": {},
   "outputs": [
    {
     "name": "stdout",
     "output_type": "stream",
     "text": [
      "2.6\n",
      "10.4\n",
      "23.4\n"
     ]
    }
   ],
   "source": [
    "def area_hexagon(side):\n",
    "    return (3 * 3**0.5 * side**2)/2\n",
    "\n",
    "print('%2.1f'%area_hexagon(1))\n",
    "print('%2.1f'%area_hexagon(2))\n",
    "print('%2.1f'%area_hexagon(3))"
   ]
  },
  {
   "cell_type": "markdown",
   "id": "martial-climate",
   "metadata": {},
   "source": [
    "***"
   ]
  },
  {
   "cell_type": "markdown",
   "id": "logical-stylus",
   "metadata": {},
   "source": [
    "Question 5.\n",
    "\n",
    "Create a function that returns a base-2 (binary) representation of a base-10 (decimal) string number.\n",
    "\n",
    "__Ans:-__"
   ]
  },
  {
   "cell_type": "code",
   "execution_count": 7,
   "id": "legislative-planet",
   "metadata": {},
   "outputs": [
    {
     "name": "stdout",
     "output_type": "stream",
     "text": [
      "Convert Using Method\n",
      "1\n",
      "101\n",
      "11011\n",
      "Convert Using Loop\n",
      "1\n",
      "101\n",
      "11011\n"
     ]
    }
   ],
   "source": [
    "def convert_binary(decimal):\n",
    "    return bin(decimal)[2:]\n",
    "\n",
    "def convert_binary_loop(decimal):\n",
    "    binary = ''\n",
    "    while decimal > 0:\n",
    "        binary += str(decimal % 2)\n",
    "        decimal //= 2\n",
    "    return binary[::-1]\n",
    "\n",
    "print('Convert Using Method')\n",
    "print(convert_binary(1))\n",
    "print(convert_binary(5))\n",
    "print(convert_binary(27))\n",
    "print('Convert Using Loop')\n",
    "print(convert_binary_loop(1))\n",
    "print(convert_binary_loop(5))\n",
    "print(convert_binary_loop(27))"
   ]
  },
  {
   "cell_type": "markdown",
   "id": "accomplished-liberal",
   "metadata": {},
   "source": []
  }
 ],
 "metadata": {
  "kernelspec": {
   "display_name": "Python 3",
   "language": "python",
   "name": "python3"
  },
  "language_info": {
   "codemirror_mode": {
    "name": "ipython",
    "version": 3
   },
   "file_extension": ".py",
   "mimetype": "text/x-python",
   "name": "python",
   "nbconvert_exporter": "python",
   "pygments_lexer": "ipython3",
   "version": "3.8.7"
  }
 },
 "nbformat": 4,
 "nbformat_minor": 5
}
