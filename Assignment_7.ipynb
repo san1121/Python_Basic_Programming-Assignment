{
 "cells": [
  {
   "cell_type": "markdown",
   "id": "mexican-hartford",
   "metadata": {},
   "source": [
    "1. Write a Python Program to find sum of array?\n",
    "\n",
    "__Ans:-__"
   ]
  },
  {
   "cell_type": "code",
   "execution_count": 1,
   "id": "capital-satisfaction",
   "metadata": {},
   "outputs": [
    {
     "data": {
      "text/plain": [
       "15"
      ]
     },
     "execution_count": 1,
     "metadata": {},
     "output_type": "execute_result"
    }
   ],
   "source": [
    "def find_sum(arr):\n",
    "    addition = 0\n",
    "    for i in arr:\n",
    "        addition += i\n",
    "    return addition\n",
    "find_sum([1,2,3,4,5])"
   ]
  },
  {
   "cell_type": "markdown",
   "id": "other-heaven",
   "metadata": {},
   "source": [
    "***"
   ]
  },
  {
   "cell_type": "markdown",
   "id": "negative-convention",
   "metadata": {},
   "source": [
    "2. Write a Python Program to find largest element in an array?\n",
    "\n",
    "__Ans:-__"
   ]
  },
  {
   "cell_type": "code",
   "execution_count": 2,
   "id": "civilian-consortium",
   "metadata": {},
   "outputs": [
    {
     "data": {
      "text/plain": [
       "100"
      ]
     },
     "execution_count": 2,
     "metadata": {},
     "output_type": "execute_result"
    }
   ],
   "source": [
    "def largest(arr):\n",
    "    return max(arr)\n",
    "largest([1,2,3,4,5,100,2])"
   ]
  },
  {
   "cell_type": "markdown",
   "id": "legal-rouge",
   "metadata": {},
   "source": [
    "***"
   ]
  },
  {
   "cell_type": "markdown",
   "id": "earlier-retention",
   "metadata": {},
   "source": [
    "3. Write a Python Program for array rotation?\n",
    "\n",
    "__Ans:-__"
   ]
  },
  {
   "cell_type": "code",
   "execution_count": 3,
   "id": "engaged-shirt",
   "metadata": {},
   "outputs": [],
   "source": [
    "def rotate(arr, position):\n",
    "    print('Original Array = ',arr)\n",
    "    position = position % len(arr)\n",
    "    new_arr = [None] * len(arr)\n",
    "    new_arr[:position] = arr[len(arr) - position:]\n",
    "    new_arr[position:] = arr[:len(arr) - position]\n",
    "    print('New array after shifting {} position = {}'.format(position,new_arr))"
   ]
  },
  {
   "cell_type": "code",
   "execution_count": 4,
   "id": "adjacent-thriller",
   "metadata": {},
   "outputs": [
    {
     "name": "stdout",
     "output_type": "stream",
     "text": [
      "Original Array =  [1, 2, 3, 4, 5, 6, 7]\n",
      "New array after shifting 0 position = [1, 2, 3, 4, 5, 6, 7]\n",
      "\n",
      "Original Array =  [1, 2, 3, 4, 5, 6, 7]\n",
      "New array after shifting 1 position = [7, 1, 2, 3, 4, 5, 6]\n",
      "\n",
      "Original Array =  [1, 2, 3, 4, 5, 6, 7]\n",
      "New array after shifting 2 position = [6, 7, 1, 2, 3, 4, 5]\n",
      "\n",
      "Original Array =  [1, 2, 3, 4, 5, 6, 7]\n",
      "New array after shifting 3 position = [5, 6, 7, 1, 2, 3, 4]\n",
      "\n",
      "Original Array =  [1, 2, 3, 4, 5, 6, 7]\n",
      "New array after shifting 4 position = [4, 5, 6, 7, 1, 2, 3]\n",
      "\n",
      "Original Array =  [1, 2, 3, 4, 5, 6, 7]\n",
      "New array after shifting 5 position = [3, 4, 5, 6, 7, 1, 2]\n",
      "\n",
      "Original Array =  [1, 2, 3, 4, 5, 6, 7]\n",
      "New array after shifting 6 position = [2, 3, 4, 5, 6, 7, 1]\n",
      "\n",
      "Original Array =  [1, 2, 3, 4, 5, 6, 7]\n",
      "New array after shifting 0 position = [1, 2, 3, 4, 5, 6, 7]\n",
      "\n",
      "Original Array =  [1, 2, 3, 4, 5, 6, 7]\n",
      "New array after shifting 1 position = [7, 1, 2, 3, 4, 5, 6]\n",
      "\n",
      "Original Array =  [1, 2, 3, 4, 5, 6, 7]\n",
      "New array after shifting 2 position = [6, 7, 1, 2, 3, 4, 5]\n",
      "\n"
     ]
    }
   ],
   "source": [
    "for i in range(10):\n",
    "    rotate([1,2,3,4,5,6,7],i)\n",
    "    print()"
   ]
  },
  {
   "cell_type": "markdown",
   "id": "moving-canon",
   "metadata": {},
   "source": [
    "***"
   ]
  },
  {
   "cell_type": "markdown",
   "id": "nearby-plaza",
   "metadata": {},
   "source": [
    "4. Write a Python Program to Split the array and add the first part to the end?\n",
    "\n",
    "__Ans:-__"
   ]
  },
  {
   "cell_type": "code",
   "execution_count": 5,
   "id": "creative-mission",
   "metadata": {},
   "outputs": [],
   "source": [
    "def split_arr(arr, position):\n",
    "    print('Original Array = ',arr)\n",
    "    position = position % len(arr)\n",
    "    new_arr = [None] * len(arr)\n",
    "    new_arr[len(arr) - position:] = arr[:position]\n",
    "    new_arr[:len(arr) - position] = arr[position:]\n",
    "    print('New array after shifting {} position = {}'.format(position,new_arr))"
   ]
  },
  {
   "cell_type": "code",
   "execution_count": 6,
   "id": "skilled-glory",
   "metadata": {},
   "outputs": [
    {
     "name": "stdout",
     "output_type": "stream",
     "text": [
      "Original Array =  [1, 2, 3, 4, 5, 6, 7]\n",
      "New array after shifting 0 position = [1, 2, 3, 4, 5, 6, 7]\n",
      "\n",
      "Original Array =  [1, 2, 3, 4, 5, 6, 7]\n",
      "New array after shifting 1 position = [2, 3, 4, 5, 6, 7, 1]\n",
      "\n",
      "Original Array =  [1, 2, 3, 4, 5, 6, 7]\n",
      "New array after shifting 2 position = [3, 4, 5, 6, 7, 1, 2]\n",
      "\n",
      "Original Array =  [1, 2, 3, 4, 5, 6, 7]\n",
      "New array after shifting 3 position = [4, 5, 6, 7, 1, 2, 3]\n",
      "\n",
      "Original Array =  [1, 2, 3, 4, 5, 6, 7]\n",
      "New array after shifting 4 position = [5, 6, 7, 1, 2, 3, 4]\n",
      "\n",
      "Original Array =  [1, 2, 3, 4, 5, 6, 7]\n",
      "New array after shifting 5 position = [6, 7, 1, 2, 3, 4, 5]\n",
      "\n",
      "Original Array =  [1, 2, 3, 4, 5, 6, 7]\n",
      "New array after shifting 6 position = [7, 1, 2, 3, 4, 5, 6]\n",
      "\n",
      "Original Array =  [1, 2, 3, 4, 5, 6, 7]\n",
      "New array after shifting 0 position = [1, 2, 3, 4, 5, 6, 7]\n",
      "\n",
      "Original Array =  [1, 2, 3, 4, 5, 6, 7]\n",
      "New array after shifting 1 position = [2, 3, 4, 5, 6, 7, 1]\n",
      "\n",
      "Original Array =  [1, 2, 3, 4, 5, 6, 7]\n",
      "New array after shifting 2 position = [3, 4, 5, 6, 7, 1, 2]\n",
      "\n"
     ]
    }
   ],
   "source": [
    "for i in range(10):\n",
    "    split_arr([1,2,3,4,5,6,7], i)\n",
    "    print()"
   ]
  },
  {
   "cell_type": "markdown",
   "id": "proprietary-occasion",
   "metadata": {},
   "source": [
    "***"
   ]
  },
  {
   "cell_type": "markdown",
   "id": "hired-beginning",
   "metadata": {},
   "source": [
    "5. Write a Python Program to check if given array is Monotonic?\n",
    "\n",
    "__Ans:-__"
   ]
  },
  {
   "cell_type": "code",
   "execution_count": 7,
   "id": "congressional-ivory",
   "metadata": {},
   "outputs": [],
   "source": [
    "def is_monotonic(arr):\n",
    "    if len(arr) <= 2:\n",
    "        return True\n",
    "    is_non_decreasing = True\n",
    "    is_non_increasing = True\n",
    "    \n",
    "    for i in range(1, len(arr)):\n",
    "        if arr[i] < arr[i - 1]:\n",
    "            is_non_decreasing = False\n",
    "        if arr[i] > arr[i - 1]:\n",
    "            is_non_increasing = False\n",
    "    return is_non_decreasing or is_non_increasing"
   ]
  },
  {
   "cell_type": "code",
   "execution_count": 8,
   "id": "medieval-heating",
   "metadata": {},
   "outputs": [
    {
     "name": "stdout",
     "output_type": "stream",
     "text": [
      "True\n",
      "False\n"
     ]
    }
   ],
   "source": [
    "print(is_monotonic([1,1,1,2,3,4,10,50,50]))\n",
    "print(is_monotonic([-11,21,41,52,63,94,110,-50,50]))"
   ]
  },
  {
   "cell_type": "code",
   "execution_count": null,
   "id": "tropical-beads",
   "metadata": {},
   "outputs": [],
   "source": []
  }
 ],
 "metadata": {
  "kernelspec": {
   "display_name": "Python 3",
   "language": "python",
   "name": "python3"
  },
  "language_info": {
   "codemirror_mode": {
    "name": "ipython",
    "version": 3
   },
   "file_extension": ".py",
   "mimetype": "text/x-python",
   "name": "python",
   "nbconvert_exporter": "python",
   "pygments_lexer": "ipython3",
   "version": "3.8.7"
  }
 },
 "nbformat": 4,
 "nbformat_minor": 5
}
