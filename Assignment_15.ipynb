{
 "cells": [
  {
   "cell_type": "markdown",
   "id": "pregnant-nudist",
   "metadata": {},
   "source": [
    "Question 1:\n",
    "\n",
    "Please write a program using generator to print the numbers which can be divisible by 5 and 7 between 0 and n in comma separated form while n is input by console.\n",
    "\n",
    "__Ans:-__"
   ]
  },
  {
   "cell_type": "code",
   "execution_count": 1,
   "id": "illegal-distance",
   "metadata": {},
   "outputs": [],
   "source": [
    "class Generator:\n",
    "    def __init__(self, n):\n",
    "        self.n = n\n",
    "        \n",
    "    def generate(self):\n",
    "        for i in range(0, self.n):\n",
    "            if i % 7 == 0 and i % 5 == 0:\n",
    "                yield i\n",
    "    "
   ]
  },
  {
   "cell_type": "code",
   "execution_count": 2,
   "id": "collect-collect",
   "metadata": {},
   "outputs": [
    {
     "name": "stdout",
     "output_type": "stream",
     "text": [
      "0,35,70,105,140,175,210,245,280,315,350,385,420,455,490,525,560,595,630,665,700,735,770,805,840,875,910,945,980,"
     ]
    }
   ],
   "source": [
    "generator = Generator(1000)\n",
    "for i in generator.generate():\n",
    "    print(i,end = ',')"
   ]
  },
  {
   "cell_type": "markdown",
   "id": "united-costume",
   "metadata": {},
   "source": [
    "***"
   ]
  },
  {
   "cell_type": "markdown",
   "id": "optional-assets",
   "metadata": {},
   "source": [
    "Question 2:\n",
    "\n",
    "Please write a program using generator to print the even numbers between 0 and n in comma separated form while n is input by console.\n",
    "\n",
    "__Ans:-__"
   ]
  },
  {
   "cell_type": "code",
   "execution_count": 3,
   "id": "proved-cabinet",
   "metadata": {},
   "outputs": [],
   "source": [
    "class Generator:\n",
    "    def __init__(self, n):\n",
    "        self.n = n\n",
    "        \n",
    "    def generate(self):\n",
    "        for i in range(0, self.n):\n",
    "            if not i % 2:\n",
    "                yield i"
   ]
  },
  {
   "cell_type": "code",
   "execution_count": 4,
   "id": "thermal-ratio",
   "metadata": {},
   "outputs": [
    {
     "name": "stdout",
     "output_type": "stream",
     "text": [
      "0,2,4,6,8,10,12,14,16,18,20,22,24,26,28,30,32,34,36,38,40,42,44,46,48,50,52,54,56,58,60,62,64,66,68,70,72,74,76,78,80,82,84,86,88,90,92,94,96,98,"
     ]
    }
   ],
   "source": [
    "generator = Generator(100)\n",
    "for i in generator.generate():\n",
    "    print(i,end = ',')"
   ]
  },
  {
   "cell_type": "markdown",
   "id": "indie-machinery",
   "metadata": {},
   "source": [
    "***"
   ]
  },
  {
   "cell_type": "markdown",
   "id": "synthetic-leisure",
   "metadata": {},
   "source": [
    "Question 3\n",
    "\n",
    "Please write a program using list comprehension to print the Fibonacci Sequence in comma separated form with a given n input by console.\n",
    "\n",
    "__Ans:-__"
   ]
  },
  {
   "cell_type": "code",
   "execution_count": 5,
   "id": "incredible-entertainment",
   "metadata": {},
   "outputs": [
    {
     "name": "stdout",
     "output_type": "stream",
     "text": [
      "15\n",
      "0, 1, 1, 2, 3, 5, 8, 13, 21, 34, 55, 89, 144, 233, 377, 610\n"
     ]
    }
   ],
   "source": [
    "def cal_fib(n):\n",
    "    if n <= 1:\n",
    "        return n\n",
    "    return cal_fib(n - 1) + cal_fib(n - 2)\n",
    "\n",
    "fibo_seq = [str(cal_fib(i)) for i in range(0, int(input()) + 1)]\n",
    "print(', '.join(fibo_seq))"
   ]
  },
  {
   "cell_type": "markdown",
   "id": "naval-mississippi",
   "metadata": {},
   "source": [
    "***"
   ]
  },
  {
   "cell_type": "markdown",
   "id": "lasting-people",
   "metadata": {},
   "source": [
    "Question 4:\n",
    "\n",
    "Assuming that we have some email addresses in the \"username@companyname.com\" format, please write program to print the user name of a given email address. Both user names and company names are composed of letters only.\n",
    "\n",
    "__Ans:-__"
   ]
  },
  {
   "cell_type": "code",
   "execution_count": 6,
   "id": "direct-depression",
   "metadata": {},
   "outputs": [
    {
     "name": "stdout",
     "output_type": "stream",
     "text": [
      "shreyas\n"
     ]
    }
   ],
   "source": [
    "import re\n",
    "pattern = re.compile(r'\\w+[^@]')\n",
    "print(re.search(pattern, 'shreyas@gmail.com')[0])"
   ]
  },
  {
   "cell_type": "markdown",
   "id": "chemical-experience",
   "metadata": {},
   "source": [
    "***"
   ]
  },
  {
   "cell_type": "markdown",
   "id": "sorted-regard",
   "metadata": {},
   "source": [
    "Question 5:\n",
    "\n",
    "Define a class named Shape and its subclass Square. The Square class has an init function which takes a length as argument. Both classes have a area function which can print the area of the shape where Shape's area is 0 by default.\n",
    "\n",
    "__Ans:-__"
   ]
  },
  {
   "cell_type": "code",
   "execution_count": 7,
   "id": "serial-tomato",
   "metadata": {},
   "outputs": [],
   "source": [
    "class Shape:\n",
    "    area = 0\n",
    "    def __init__(self):\n",
    "        pass \n",
    "    def print_area(self, length):\n",
    "        print(length ** 2)\n",
    "class Square(Shape):\n",
    "    \n",
    "    def __init__(self, length = 0):\n",
    "        self.length = length\n",
    "    \n",
    "    def print_area(self):\n",
    "        super().print_area(self.length)"
   ]
  },
  {
   "cell_type": "code",
   "execution_count": 8,
   "id": "increasing-evening",
   "metadata": {},
   "outputs": [
    {
     "name": "stdout",
     "output_type": "stream",
     "text": [
      "25\n"
     ]
    }
   ],
   "source": [
    "square = Square(5)\n",
    "square.print_area()"
   ]
  },
  {
   "cell_type": "code",
   "execution_count": 9,
   "id": "herbal-reserve",
   "metadata": {},
   "outputs": [
    {
     "name": "stdout",
     "output_type": "stream",
     "text": [
      "0\n"
     ]
    }
   ],
   "source": [
    "shape = Square()\n",
    "shape.print_area()"
   ]
  },
  {
   "cell_type": "markdown",
   "id": "superb-supplier",
   "metadata": {},
   "source": []
  }
 ],
 "metadata": {
  "kernelspec": {
   "display_name": "Python 3",
   "language": "python",
   "name": "python3"
  },
  "language_info": {
   "codemirror_mode": {
    "name": "ipython",
    "version": 3
   },
   "file_extension": ".py",
   "mimetype": "text/x-python",
   "name": "python",
   "nbconvert_exporter": "python",
   "pygments_lexer": "ipython3",
   "version": "3.8.7"
  }
 },
 "nbformat": 4,
 "nbformat_minor": 5
}
