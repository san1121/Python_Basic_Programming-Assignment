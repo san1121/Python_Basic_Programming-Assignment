{
 "cells": [
  {
   "cell_type": "markdown",
   "metadata": {},
   "source": [
    "1. Write a Python program to find sum of elements in list?\n",
    "\n",
    "__Ans:-__"
   ]
  },
  {
   "cell_type": "code",
   "execution_count": 1,
   "metadata": {},
   "outputs": [
    {
     "name": "stdout",
     "output_type": "stream",
     "text": [
      "76\n"
     ]
    }
   ],
   "source": [
    "from functools import reduce\n",
    "def sum_list(lis):\n",
    "    return reduce(lambda x, y: x + y, lis)\n",
    "print(sum_list([6,12,13,45]))"
   ]
  },
  {
   "cell_type": "markdown",
   "metadata": {},
   "source": [
    "***"
   ]
  },
  {
   "cell_type": "markdown",
   "metadata": {},
   "source": [
    "2. Write a Python program to  Multiply all numbers in the list?\n",
    "\n",
    "__Ans:-__"
   ]
  },
  {
   "cell_type": "code",
   "execution_count": 2,
   "metadata": {},
   "outputs": [
    {
     "name": "stdout",
     "output_type": "stream",
     "text": [
      "42120\n"
     ]
    }
   ],
   "source": [
    "def mul_list(lis):\n",
    "    return reduce(lambda x, y: x * y, lis)\n",
    "print(mul_list([6,12,13,45]))"
   ]
  },
  {
   "cell_type": "markdown",
   "metadata": {},
   "source": [
    "***"
   ]
  },
  {
   "cell_type": "markdown",
   "metadata": {},
   "source": [
    "3. Write a Python program to find smallest number in a list?\n",
    "\n",
    "__Ans:-__"
   ]
  },
  {
   "cell_type": "code",
   "execution_count": 3,
   "metadata": {},
   "outputs": [
    {
     "name": "stdout",
     "output_type": "stream",
     "text": [
      "6\n"
     ]
    }
   ],
   "source": [
    "def find_smallest(lis):\n",
    "    return min(lis)\n",
    "print(find_smallest([6,12,13,45]))"
   ]
  },
  {
   "cell_type": "markdown",
   "metadata": {},
   "source": [
    "***"
   ]
  },
  {
   "cell_type": "markdown",
   "metadata": {},
   "source": [
    "4. Write a Python program to find largest number in a list?\n",
    "\n",
    "__Ans:-__"
   ]
  },
  {
   "cell_type": "code",
   "execution_count": 4,
   "metadata": {},
   "outputs": [
    {
     "name": "stdout",
     "output_type": "stream",
     "text": [
      "45\n"
     ]
    }
   ],
   "source": [
    "def find_largest(lis):\n",
    "    return max(lis)\n",
    "print(find_largest([6,12,13,45]))"
   ]
  },
  {
   "cell_type": "markdown",
   "metadata": {},
   "source": [
    "***"
   ]
  },
  {
   "cell_type": "markdown",
   "metadata": {},
   "source": [
    "5. Write a Python program to find second largest number in a list?\n",
    "\n",
    "__Ans:-__"
   ]
  },
  {
   "cell_type": "code",
   "execution_count": 5,
   "metadata": {},
   "outputs": [
    {
     "name": "stdout",
     "output_type": "stream",
     "text": [
      "13\n"
     ]
    }
   ],
   "source": [
    "def second_largest(lis):\n",
    "    largest = find_largest(lis)\n",
    "    second_largest = None\n",
    "    \n",
    "    for i in lis:\n",
    "        if i < largest:\n",
    "            if (second_largest and i > second_largest) or (second_largest == None):\n",
    "                second_largest = i\n",
    "    return second_largest\n",
    "\n",
    "print(second_largest([6,12,13,45]))"
   ]
  },
  {
   "cell_type": "markdown",
   "metadata": {},
   "source": [
    "***"
   ]
  },
  {
   "cell_type": "markdown",
   "metadata": {},
   "source": [
    "6. Write a Python program to find N largest elements from a list?\n",
    "\n",
    "__Ans:-__"
   ]
  },
  {
   "cell_type": "code",
   "execution_count": 6,
   "metadata": {},
   "outputs": [
    {
     "name": "stdout",
     "output_type": "stream",
     "text": [
      "[-50, 6, 12, 13, 45]\n"
     ]
    }
   ],
   "source": [
    "def n_largest(lis, n):\n",
    "    lis = sorted(lis)\n",
    "    return (lis[:n]) if n < len(lis) else 'n is larger than length of list'\n",
    "print(n_largest([-50,121,6,12,13,45], 5))\n"
   ]
  },
  {
   "cell_type": "markdown",
   "metadata": {},
   "source": [
    "***"
   ]
  },
  {
   "cell_type": "markdown",
   "metadata": {},
   "source": [
    "7. Write a Python program to print even numbers in a list?\n",
    "\n",
    "__Ans:-__"
   ]
  },
  {
   "cell_type": "code",
   "execution_count": 7,
   "metadata": {},
   "outputs": [
    {
     "name": "stdout",
     "output_type": "stream",
     "text": [
      "[44, -30, -60, -12]\n"
     ]
    }
   ],
   "source": [
    "def even(lis):\n",
    "    return list(filter(lambda x: not x % 2, lis))\n",
    "print(even([91, 45, 44, -29, -33, 21, -30, -60, -12]))"
   ]
  },
  {
   "cell_type": "markdown",
   "metadata": {},
   "source": [
    "***"
   ]
  },
  {
   "cell_type": "markdown",
   "metadata": {},
   "source": [
    "8. Write a Python program to Remove empty List from List?\n",
    "\n",
    "__Ans:-__"
   ]
  },
  {
   "cell_type": "code",
   "execution_count": 8,
   "metadata": {},
   "outputs": [
    {
     "name": "stdout",
     "output_type": "stream",
     "text": [
      "[71, -99, -7, 45, 55, -31, 3]\n"
     ]
    }
   ],
   "source": [
    "def odd(lis):\n",
    "    return list(filter(lambda x: x % 2, lis))\n",
    "print(odd([71, -82, -99, -7, 45, 55, -31, 3, 82]))"
   ]
  },
  {
   "cell_type": "markdown",
   "metadata": {},
   "source": [
    "***"
   ]
  },
  {
   "cell_type": "markdown",
   "metadata": {},
   "source": [
    "9. Write a Python program to Remove empty List from List?\n",
    "\n",
    "__Ans:-__"
   ]
  },
  {
   "cell_type": "code",
   "execution_count": 9,
   "metadata": {},
   "outputs": [
    {
     "name": "stdout",
     "output_type": "stream",
     "text": [
      "[-39, -82, [1, 2, 3], 31, -28, -5, 49, -64, 92, [2], -17]\n"
     ]
    }
   ],
   "source": [
    "def remove_list(lis):\n",
    "    i = 0\n",
    "    \n",
    "    while i < len(lis):\n",
    "        if type(lis[i]) == list and not len(lis[i]):\n",
    "            lis.remove([])\n",
    "            i -= 1\n",
    "        i += 1\n",
    "    return lis\n",
    "    \n",
    "print(remove_list(remove_list([-39, -82,[1,2,3], 31, -28,[], -5, 49, -64, 92,[2],[], -17,[]])))"
   ]
  },
  {
   "cell_type": "markdown",
   "metadata": {},
   "source": [
    "***"
   ]
  },
  {
   "cell_type": "markdown",
   "metadata": {},
   "source": [
    "10. Write a Python program to Cloning or Copying a list?\n",
    "\n",
    "__Ans:-__"
   ]
  },
  {
   "cell_type": "code",
   "execution_count": 10,
   "metadata": {},
   "outputs": [
    {
     "name": "stdout",
     "output_type": "stream",
     "text": [
      "[-24, 91, 75, 58, 5, -73, 47, -78, 47]\n"
     ]
    }
   ],
   "source": [
    "import copy\n",
    "\n",
    "def clone(lis):\n",
    "    return copy.copy(lis)\n",
    "\n",
    "print(clone([-24, 91, 75, 58, 5, -73, 47, -78, 47]))"
   ]
  },
  {
   "cell_type": "markdown",
   "metadata": {},
   "source": [
    "***"
   ]
  },
  {
   "cell_type": "markdown",
   "metadata": {},
   "source": [
    "11. Write a Python program to Count occurrences of an element in a list?\n",
    "\n",
    "__Ans:-__"
   ]
  },
  {
   "cell_type": "code",
   "execution_count": 11,
   "metadata": {},
   "outputs": [
    {
     "name": "stdout",
     "output_type": "stream",
     "text": [
      "2\n"
     ]
    }
   ],
   "source": [
    "def count(lis, elem):\n",
    "    return lis.count(elem)\n",
    "print(count([-38, -46, 30, -66, 12, 24, -4, 86, 24],24))"
   ]
  },
  {
   "cell_type": "code",
   "execution_count": null,
   "metadata": {},
   "outputs": [],
   "source": []
  }
 ],
 "metadata": {
  "kernelspec": {
   "display_name": "Python 3",
   "language": "python",
   "name": "python3"
  },
  "language_info": {
   "codemirror_mode": {
    "name": "ipython",
    "version": 3
   },
   "file_extension": ".py",
   "mimetype": "text/x-python",
   "name": "python",
   "nbconvert_exporter": "python",
   "pygments_lexer": "ipython3",
   "version": "3.8.5"
  }
 },
 "nbformat": 4,
 "nbformat_minor": 5
}
