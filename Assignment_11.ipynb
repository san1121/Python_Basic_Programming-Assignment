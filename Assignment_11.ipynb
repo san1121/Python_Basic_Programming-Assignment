{
 "cells": [
  {
   "cell_type": "markdown",
   "id": "level-malta",
   "metadata": {},
   "source": [
    "1. Write a Python program to find words which are greater than given length k?\n",
    "\n",
    "__Ans:-__"
   ]
  },
  {
   "cell_type": "code",
   "execution_count": 1,
   "id": "fewer-setting",
   "metadata": {},
   "outputs": [
    {
     "name": "stdout",
     "output_type": "stream",
     "text": [
      "Words which has length greater than 8\n",
      "['monkeydom', 'outclimbed', 'pistoleers', 'snake-line', 'subtrends']\n"
     ]
    }
   ],
   "source": [
    "def greater_len(words, length):\n",
    "    print('Words which has length greater than',length)\n",
    "    return list(filter(lambda x : len(x) > length, words))\n",
    "\n",
    "print(greater_len(['ambivert', 'calcspar', 'deaness', 'entrete', 'gades', 'monkeydom', 'outclimbed', 'outdared', 'pistoleers', 'redbugs', 'snake-line', 'subrules', 'subtrends', 'torenia', 'unhides'], 8))"
   ]
  },
  {
   "cell_type": "markdown",
   "id": "digital-latin",
   "metadata": {},
   "source": [
    "***"
   ]
  },
  {
   "cell_type": "markdown",
   "id": "blind-penguin",
   "metadata": {},
   "source": [
    "2. Write a Python program for removing i-th character from a string?\n",
    "\n",
    "__Ans:-__\n"
   ]
  },
  {
   "cell_type": "code",
   "execution_count": 2,
   "id": "hourly-challenge",
   "metadata": {},
   "outputs": [
    {
     "name": "stdout",
     "output_type": "stream",
     "text": [
      "ambvert\n"
     ]
    }
   ],
   "source": [
    "def remove_ith(string, i):\n",
    "    return string.replace(string[i], '')\n",
    "print(remove_ith('ambivert', 3))"
   ]
  },
  {
   "cell_type": "markdown",
   "id": "located-abuse",
   "metadata": {},
   "source": [
    "***"
   ]
  },
  {
   "cell_type": "markdown",
   "id": "mobile-somerset",
   "metadata": {},
   "source": [
    "3. Write a Python program to split and join a string?\n",
    "\n",
    "__Ans:-__"
   ]
  },
  {
   "cell_type": "code",
   "execution_count": 3,
   "id": "wanted-obligation",
   "metadata": {},
   "outputs": [
    {
     "name": "stdout",
     "output_type": "stream",
     "text": [
      "Full@Stack@Data@Science\n"
     ]
    }
   ],
   "source": [
    "def split_join(string):\n",
    "    split_string = string.split(' ')\n",
    "    return '@'.join(split_string)\n",
    "print(split_join('Full Stack Data Science'))"
   ]
  },
  {
   "cell_type": "markdown",
   "id": "remarkable-croatia",
   "metadata": {},
   "source": [
    "***"
   ]
  },
  {
   "cell_type": "markdown",
   "id": "residential-escape",
   "metadata": {},
   "source": [
    "4. Write a Python to check if a given string is binary string or not?\n",
    "\n",
    "__Ans:-__"
   ]
  },
  {
   "cell_type": "code",
   "execution_count": 4,
   "id": "christian-graphic",
   "metadata": {},
   "outputs": [
    {
     "name": "stdout",
     "output_type": "stream",
     "text": [
      "True\n",
      "False\n"
     ]
    }
   ],
   "source": [
    "def is_binary(string):\n",
    "    if len(string) < 2:\n",
    "        return False\n",
    "    \n",
    "    return all(map(lambda x : x == '0' or x == '1', string[2:]))\\\n",
    "                if string[1] == 'b' else False\n",
    "\n",
    "print(is_binary('0b11'))\n",
    "print(is_binary('0b1110010102'))"
   ]
  },
  {
   "cell_type": "markdown",
   "id": "split-participation",
   "metadata": {},
   "source": [
    "***"
   ]
  },
  {
   "cell_type": "markdown",
   "id": "conservative-standing",
   "metadata": {},
   "source": [
    "5. Write a Python program to find uncommon words from two Strings?\n",
    "\n",
    "__Ans:-__"
   ]
  },
  {
   "cell_type": "code",
   "execution_count": 5,
   "id": "musical-adapter",
   "metadata": {},
   "outputs": [
    {
     "name": "stdout",
     "output_type": "stream",
     "text": [
      "['designer', 'exaggerate', 'speaker', 'evolution', 'integrity', 'drag', 'snatch']\n"
     ]
    }
   ],
   "source": [
    "def find_uncommon(string1, string2):\n",
    "    string_set1 = set(string1.split(' '))\n",
    "    string_set2 = set(string2.split(' '))\n",
    "    return list((string_set1 - string_set2)) + list((string_set2 - string_set1))\n",
    "\n",
    "string1 = 'speaker crowd rent recovery designer exaggerate'\n",
    "string2 = 'recovery drag snatch rent evolution integrity crowd'\n",
    "print(find_uncommon(string1, string2))"
   ]
  },
  {
   "cell_type": "markdown",
   "id": "disabled-estate",
   "metadata": {},
   "source": [
    "***"
   ]
  },
  {
   "cell_type": "markdown",
   "id": "standard-attitude",
   "metadata": {},
   "source": [
    "6. Write a Python to find all duplicate characters in string?\n",
    "\n",
    "__Ans:-__"
   ]
  },
  {
   "cell_type": "code",
   "execution_count": 6,
   "id": "rough-sucking",
   "metadata": {},
   "outputs": [
    {
     "name": "stdout",
     "output_type": "stream",
     "text": [
      "['p', 'i', 's']\n"
     ]
    }
   ],
   "source": [
    "def find_duplicate(string):\n",
    "    duplicate = set()\n",
    "    duplicate_set = set() \n",
    "    for char in string:\n",
    "        if char in duplicate_set:\n",
    "            duplicate.add(char)\n",
    "        else:\n",
    "            duplicate_set.add(char)\n",
    "    return list(duplicate)\n",
    "\n",
    "print(find_duplicate('mississippi'))"
   ]
  },
  {
   "cell_type": "markdown",
   "id": "anonymous-archive",
   "metadata": {},
   "source": [
    "***"
   ]
  },
  {
   "cell_type": "markdown",
   "id": "worldwide-excuse",
   "metadata": {},
   "source": [
    "7. Write a Python Program to check if a string contains any special character?\n",
    "\n",
    "__Ans:-__"
   ]
  },
  {
   "cell_type": "code",
   "execution_count": 7,
   "id": "polyphonic-princess",
   "metadata": {},
   "outputs": [
    {
     "name": "stdout",
     "output_type": "stream",
     "text": [
      "True\n",
      "False\n"
     ]
    }
   ],
   "source": [
    "import re\n",
    "def is_special(string):\n",
    "    pattern = re.compile(r'[^\\w\\s]')\n",
    "    special = re.search(pattern, string)\n",
    "    return True if special else False\n",
    "print(is_special('You can\\'t compare @pples and oranges?, but what about bananas__ and ;plantains?'))\n",
    "print(is_special('Shreyas'))"
   ]
  },
  {
   "cell_type": "markdown",
   "id": "incomplete-refund",
   "metadata": {},
   "source": [
    "***"
   ]
  }
 ],
 "metadata": {
  "kernelspec": {
   "display_name": "Python 3",
   "language": "python",
   "name": "python3"
  },
  "language_info": {
   "codemirror_mode": {
    "name": "ipython",
    "version": 3
   },
   "file_extension": ".py",
   "mimetype": "text/x-python",
   "name": "python",
   "nbconvert_exporter": "python",
   "pygments_lexer": "ipython3",
   "version": "3.8.7"
  }
 },
 "nbformat": 4,
 "nbformat_minor": 5
}
