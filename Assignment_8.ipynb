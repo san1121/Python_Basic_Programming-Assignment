{
 "cells": [
  {
   "cell_type": "markdown",
   "id": "experimental-disorder",
   "metadata": {},
   "source": [
    "1. Write a Python Program to Add Two Matrices?\n",
    "\n",
    "__Ans:-__"
   ]
  },
  {
   "cell_type": "code",
   "execution_count": 1,
   "id": "future-sugar",
   "metadata": {},
   "outputs": [
    {
     "name": "stdout",
     "output_type": "stream",
     "text": [
      "[[ 2  4 10]\n",
      " [13 15 29]]\n"
     ]
    }
   ],
   "source": [
    "import numpy as np\n",
    "def add_matrix(mat1, mat2):\n",
    "    if (len(mat1), len(mat1[0])) == (len(mat2), len(mat2[0])):\n",
    "        return(np.add(mat1, mat2))\n",
    "    else:\n",
    "        return 'Matrix addition not possible'\n",
    "\n",
    "print(add_matrix([[1,2,3],[4,5,6]], [[1,2,7],[9,10,23]]))"
   ]
  },
  {
   "cell_type": "markdown",
   "id": "collaborative-silver",
   "metadata": {},
   "source": [
    "***"
   ]
  },
  {
   "cell_type": "markdown",
   "id": "whole-delivery",
   "metadata": {},
   "source": [
    "2. Write a Python Program to Multiply Two Matrices?\n",
    "\n",
    "__Ans:-__"
   ]
  },
  {
   "cell_type": "code",
   "execution_count": 2,
   "id": "common-northeast",
   "metadata": {},
   "outputs": [
    {
     "name": "stdout",
     "output_type": "stream",
     "text": [
      "[[31 37]\n",
      " [73 88]]\n"
     ]
    }
   ],
   "source": [
    "import numpy as np\n",
    "\n",
    "def mul_matrix(mat1, mat2):\n",
    "    try:\n",
    "        return np.dot(mat1, mat2)\n",
    "    except Exception as e:\n",
    "        return e\n",
    "print(mul_matrix([[1,2,3],[4,5,6]], [[1,2],[9,10],[4,5]]))"
   ]
  },
  {
   "cell_type": "markdown",
   "id": "magnetic-fusion",
   "metadata": {},
   "source": [
    "***"
   ]
  },
  {
   "cell_type": "markdown",
   "id": "incoming-style",
   "metadata": {},
   "source": [
    "3. Write a Python Program to Transpose a Matrix?\n",
    "\n",
    "__Ans:-__"
   ]
  },
  {
   "cell_type": "code",
   "execution_count": 3,
   "id": "embedded-discrimination",
   "metadata": {},
   "outputs": [
    {
     "name": "stdout",
     "output_type": "stream",
     "text": [
      "[[1 4]\n",
      " [2 5]\n",
      " [3 6]]\n"
     ]
    }
   ],
   "source": [
    "import numpy as np\n",
    "\n",
    "def transpose(mat):\n",
    "    return np.transpose(mat)\n",
    "print(transpose([[1,2,3],[4,5,6]]))"
   ]
  },
  {
   "cell_type": "markdown",
   "id": "coastal-beads",
   "metadata": {},
   "source": [
    "***"
   ]
  },
  {
   "cell_type": "markdown",
   "id": "experimental-drain",
   "metadata": {},
   "source": [
    "4. Write a Python Program to Sort Words in Alphabetic Order?\n",
    "\n",
    "__Ans:-__"
   ]
  },
  {
   "cell_type": "code",
   "execution_count": 4,
   "id": "joined-abortion",
   "metadata": {},
   "outputs": [
    {
     "name": "stdout",
     "output_type": "stream",
     "text": [
      "['Enrolled', 'Full Stack Data Science', 'Have', 'In', 'Parab', 'Shreyas']\n"
     ]
    }
   ],
   "source": [
    "def sort_words(arr):\n",
    "    return sorted(arr)\n",
    "print(sort_words(['Shreyas','Parab','Have','Enrolled','In','Full Stack Data Science']))"
   ]
  },
  {
   "cell_type": "markdown",
   "id": "improving-xerox",
   "metadata": {},
   "source": [
    "***"
   ]
  },
  {
   "cell_type": "markdown",
   "id": "threatened-centre",
   "metadata": {},
   "source": [
    "5. Write a Python Program to Remove Punctuation From a String?\n",
    "\n",
    "__Ans:-__\n"
   ]
  },
  {
   "cell_type": "code",
   "execution_count": 5,
   "id": "figured-uniform",
   "metadata": {},
   "outputs": [
    {
     "data": {
      "text/plain": [
       "'Gfg  is best   for   Geeks  '"
      ]
     },
     "execution_count": 5,
     "metadata": {},
     "output_type": "execute_result"
    }
   ],
   "source": [
    "import re\n",
    "def remove_punc(string):\n",
    "    res = re.sub(r'\\W',' ',string)\n",
    "    return res\n",
    "remove_punc('Gfg, is best : for ! Geeks ;')"
   ]
  },
  {
   "cell_type": "code",
   "execution_count": null,
   "id": "toxic-grocery",
   "metadata": {},
   "outputs": [],
   "source": []
  }
 ],
 "metadata": {
  "kernelspec": {
   "display_name": "Python 3",
   "language": "python",
   "name": "python3"
  },
  "language_info": {
   "codemirror_mode": {
    "name": "ipython",
    "version": 3
   },
   "file_extension": ".py",
   "mimetype": "text/x-python",
   "name": "python",
   "nbconvert_exporter": "python",
   "pygments_lexer": "ipython3",
   "version": "3.8.7"
  }
 },
 "nbformat": 4,
 "nbformat_minor": 5
}
