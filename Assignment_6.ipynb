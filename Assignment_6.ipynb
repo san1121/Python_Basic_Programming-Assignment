{
 "cells": [
  {
   "cell_type": "markdown",
   "id": "continuing-insurance",
   "metadata": {},
   "source": [
    "1. Write a Python Program to Display Fibonacci Sequence Using Recursion?\n",
    "\n",
    "__Ans:-__"
   ]
  },
  {
   "cell_type": "code",
   "execution_count": 1,
   "id": "simplified-barrel",
   "metadata": {},
   "outputs": [
    {
     "name": "stdout",
     "output_type": "stream",
     "text": [
      "15\n",
      "0 1 1 2 3 5 8 13 21 34 55 89 144 233 377 "
     ]
    }
   ],
   "source": [
    "def fibo(num):\n",
    "    if num == 0 or num == 1:\n",
    "        return num\n",
    "    return fibo(num - 1) + fibo(num - 2)\n",
    "for i in range(int(input())):\n",
    "    print(fibo(i), end = ' ')"
   ]
  },
  {
   "cell_type": "markdown",
   "id": "single-automation",
   "metadata": {},
   "source": [
    "***"
   ]
  },
  {
   "cell_type": "markdown",
   "id": "chicken-glenn",
   "metadata": {},
   "source": [
    "2. Write a Python Program to Find Factorial of Number Using Recursion?\n",
    "\n",
    "__Ans:-__"
   ]
  },
  {
   "cell_type": "code",
   "execution_count": 2,
   "id": "familiar-diesel",
   "metadata": {},
   "outputs": [
    {
     "data": {
      "text/plain": [
       "3628800"
      ]
     },
     "execution_count": 2,
     "metadata": {},
     "output_type": "execute_result"
    }
   ],
   "source": [
    "def fact(num):\n",
    "    if num == 1:\n",
    "        return num\n",
    "    return fact(num - 1) * num\n",
    "fact(10)"
   ]
  },
  {
   "cell_type": "markdown",
   "id": "diagnostic-france",
   "metadata": {},
   "source": [
    "***"
   ]
  },
  {
   "cell_type": "markdown",
   "id": "extreme-unknown",
   "metadata": {},
   "source": [
    "3. Write a Python Program to calculate your Body Mass Index?\n",
    "\n",
    "__Ans:-__"
   ]
  },
  {
   "cell_type": "code",
   "execution_count": 3,
   "id": "contained-creator",
   "metadata": {},
   "outputs": [
    {
     "name": "stdout",
     "output_type": "stream",
     "text": [
      "Enter Weight and Height in kg and cm respectively: 60 167\n",
      "Body Mass Index is 21.51 kg/m^2 square\n"
     ]
    }
   ],
   "source": [
    "def bmi(weight, height):\n",
    "    height_meter = height/100\n",
    "    return weight/(height_meter ** 2)\n",
    "\n",
    "weight,height = list(map(int, input(\"Enter Weight and Height in kg and cm respectively: \").split(' ')))\n",
    "print('Body Mass Index is %2.2f kg/m^2 square'%bmi(weight, height))"
   ]
  },
  {
   "cell_type": "markdown",
   "id": "gorgeous-louisville",
   "metadata": {},
   "source": [
    "***"
   ]
  },
  {
   "cell_type": "markdown",
   "id": "intensive-feature",
   "metadata": {},
   "source": [
    "4. Write a Python Program to calculate the natural logarithm of any number?\n",
    "\n",
    "__Ans:-__"
   ]
  },
  {
   "cell_type": "code",
   "execution_count": 4,
   "id": "elder-advertiser",
   "metadata": {},
   "outputs": [
    {
     "name": "stdout",
     "output_type": "stream",
     "text": [
      "15\n",
      "2.70805020110221\n"
     ]
    }
   ],
   "source": [
    "import math\n",
    "\n",
    "def natural_log(num):\n",
    "    return math.log(num)\n",
    "print(natural_log(int(input())))"
   ]
  },
  {
   "cell_type": "markdown",
   "id": "documented-watch",
   "metadata": {},
   "source": [
    "***"
   ]
  },
  {
   "cell_type": "markdown",
   "id": "third-triangle",
   "metadata": {},
   "source": [
    "5. Write a Python Program for cube sum of first n natural numbers?\n",
    "\n",
    "__Ans:-__"
   ]
  },
  {
   "cell_type": "code",
   "execution_count": 5,
   "id": "opposed-specific",
   "metadata": {},
   "outputs": [
    {
     "name": "stdout",
     "output_type": "stream",
     "text": [
      "5\n"
     ]
    },
    {
     "data": {
      "text/plain": [
       "225"
      ]
     },
     "execution_count": 5,
     "metadata": {},
     "output_type": "execute_result"
    }
   ],
   "source": [
    "def sum_cube(n):\n",
    "    return ((n * (n + 1))//2)**2\n",
    "sum_cube(int(input()))"
   ]
  },
  {
   "cell_type": "code",
   "execution_count": null,
   "id": "royal-chemical",
   "metadata": {},
   "outputs": [],
   "source": []
  }
 ],
 "metadata": {
  "kernelspec": {
   "display_name": "Python 3",
   "language": "python",
   "name": "python3"
  },
  "language_info": {
   "codemirror_mode": {
    "name": "ipython",
    "version": 3
   },
   "file_extension": ".py",
   "mimetype": "text/x-python",
   "name": "python",
   "nbconvert_exporter": "python",
   "pygments_lexer": "ipython3",
   "version": "3.8.7"
  }
 },
 "nbformat": 4,
 "nbformat_minor": 5
}
